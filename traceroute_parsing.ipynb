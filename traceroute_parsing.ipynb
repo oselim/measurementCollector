{
 "cells": [
  {
   "cell_type": "code",
   "execution_count": null,
   "id": "negative-commissioner",
   "metadata": {},
   "outputs": [],
   "source": [
    "import json\n",
    "file_name = \"/Users/selimozcan/PycharmProjects/data/results_list-ipv4_traceroute-(21-1-1_21-1-2).json\"\n",
    "\n",
    "with open(file=file_name, mode=\"r\") as file_handle:\n",
    "    traceroute_results = json.load(file_handle)\n",
    "\n",
    "file_handle.close()"
   ]
  },
  {
   "cell_type": "code",
   "execution_count": null,
   "outputs": [],
   "source": [
    "print(\"hello\")\n"
   ],
   "metadata": {
    "collapsed": false,
    "pycharm": {
     "name": "#%%\n"
    }
   }
  },
  {
   "cell_type": "code",
   "execution_count": null,
   "id": "israeli-prior",
   "metadata": {},
   "outputs": [],
   "source": [
    "print(type(traceroute_results))\n",
    "print(str(len(traceroute_results)))"
   ]
  },
  {
   "cell_type": "code",
   "execution_count": null,
   "id": "executive-commercial",
   "metadata": {},
   "outputs": [],
   "source": [
    "one_result = traceroute_results[3]"
   ]
  },
  {
   "cell_type": "code",
   "execution_count": null,
   "id": "everyday-assembly",
   "metadata": {},
   "outputs": [],
   "source": [
    "one_result"
   ]
  },
  {
   "cell_type": "code",
   "execution_count": 1,
   "id": "spectacular-natural",
   "metadata": {
    "pycharm": {
     "name": "#%%\n"
    }
   },
   "outputs": [
    {
     "data": {
      "text/plain": [
       "'Ludwigshafen am Rhein'"
      ]
     },
     "execution_count": 1,
     "metadata": {},
     "output_type": "execute_result"
    }
   ],
   "source": [
    "import requests\n",
    "\n",
    "def ip_map_city_request(ip_addr):\n",
    "    url = \"https://ipmap.ripe.net/api/v1/locate/{}/best\".format(ip_addr)\n",
    "    response = requests.get(url)\n",
    "    response_json = response.json()\n",
    "    if 'location' in response_json:\n",
    "        return response_json['location']['cityName']\n",
    "\n",
    "ip_map_city_request(\"217.160.80.42\")\n"
   ]
  },
  {
   "cell_type": "code",
   "execution_count": null,
   "id": "metric-corrections",
   "metadata": {},
   "outputs": [],
   "source": [
    "for traceroute_result in traceroute_results:\n",
    "    from_addr = traceroute_result[\"from\"]\n",
    "    from_addr_city = ip_map_city_request(from_addr)\n",
    "    dst_addr = traceroute_result[\"dst_addr\"]\n",
    "    dst_addr_city = ip_map_city_request(dst_addr)\n",
    "    hops_list = traceroute_result[\"result\"]\n"
   ]
  },
  {
   "cell_type": "code",
   "execution_count": null,
   "id": "advance-haven",
   "metadata": {
    "pycharm": {
     "name": "#%%\n"
    }
   },
   "outputs": [],
   "source": []
  },
  {
   "cell_type": "code",
   "execution_count": null,
   "id": "silent-stanley",
   "metadata": {},
   "outputs": [],
   "source": [
    "import pyspark\n",
    "from pyspark import SparkConf, SparkContext\n",
    "from pyspark.sql import SparkSession\n",
    "\n",
    "# You can configure the SparkContext\n",
    "\n",
    "conf = SparkConf()\\\n",
    "    .setMaster(\"local[*]\")\\\n",
    "    .setAppName(\"ripe_measurement\")\n",
    "conf.set('spark.local.dir', '/Users/selimozcan/PycharmProjects/spark_folder')\n",
    "conf.set('spark.sql.shuffle.partitions', '2100')\n",
    "#SparkContext.setSystemProperty('spark.executor.memory', '10g')\n",
    "SparkContext.setSystemProperty('spark.driver.memory', '10g')\n",
    "# sc = SparkContext(appName='ripe_measurement', conf=conf)\n",
    "session = SparkSession.builder.getOrCreate()"
   ]
  },
  {
   "cell_type": "code",
   "execution_count": null,
   "id": "simplified-australian",
   "metadata": {},
   "outputs": [],
   "source": [
    "file_name = \"/Users/selimozcan/PycharmProjects/data/results_list-ipv4_traceroute-(21-1-1_21-1-2).json\"\n",
    "\n",
    "data = session.read.json(file_name)"
   ]
  },
  {
   "cell_type": "code",
   "execution_count": null,
   "id": "black-steal",
   "metadata": {
    "pycharm": {
     "name": "#%%\n"
    }
   },
   "outputs": [],
   "source": []
  }
 ],
 "metadata": {
  "kernelspec": {
   "display_name": "Python 3",
   "language": "python",
   "name": "python3"
  },
  "language_info": {
   "codemirror_mode": {
    "name": "ipython",
    "version": 3
   },
   "file_extension": ".py",
   "mimetype": "text/x-python",
   "name": "python",
   "nbconvert_exporter": "python",
   "pygments_lexer": "ipython3",
   "version": "3.7.7"
  }
 },
 "nbformat": 4,
 "nbformat_minor": 5
}