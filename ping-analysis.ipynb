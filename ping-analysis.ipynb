{
 "cells": [
  {
   "cell_type": "markdown",
   "id": "maritime-waste",
   "metadata": {},
   "source": [
    "Requirements:\n",
    "ripe.atlas.cousteau"
   ]
  },
  {
   "cell_type": "code",
   "execution_count": null,
   "id": "executive-protest",
   "metadata": {},
   "outputs": [],
   "source": [
    "\"\"\"\n",
    "!pip install ripe.atlas.cousteau\n",
    "\"\"\"\n",
    "!pip install pyspark"
   ]
  },
  {
   "cell_type": "code",
   "execution_count": null,
   "id": "primary-patrick",
   "metadata": {},
   "outputs": [],
   "source": [
    "from datetime import datetime\n",
    "import json\n",
    "import logging\n",
    "from ripe.atlas.cousteau import MeasurementRequest, AtlasResultsRequest\n",
    "\n",
    "logging.basicConfig(filename=\"data/measurement_collect.log\", filemode='w',\n",
    "                    format='%(asctime)s - %(name)s - %(levelname)s - %(message)s',\n",
    "                    datefmt='%d-%b-%y %H:%M:%S', level=logging.DEBUG)\n",
    "measurement_filters = {\n",
    "    \"start_time__gte\": datetime(2021, 1, 1),\n",
    "    \"stop_time__lte\": datetime(2021, 1, 2),\n",
    "    \"type\": \"ping\",\n",
    "    \"af\": 4,\n",
    "    \"page_size\": 500\n",
    "}\n",
    "\n",
    "measurements = MeasurementRequest(**measurement_filters)\n",
    "\n",
    "measurement_ids = []\n",
    "results_list = []\n",
    "\n",
    "for msm in measurements:\n",
    "    measurement_id = msm[\"id\"]\n",
    "    measurement_ids.append(measurement_id)\n",
    "    is_success, results = AtlasResultsRequest(**{\"msm_id\": measurement_id}).create()\n",
    "    logging.info(\"Result request is successful: %s\", is_success)\n",
    "    if is_success:\n",
    "        results_list.extend(results)\n",
    "        logging.info(\"Total measurements: %s, processed measurements: %s, Results size: %s, processed results: %s\",\n",
    "                     str(measurements.total_count), str(len(measurement_ids)), str(len(results)),\n",
    "                     str(len(results_list)))\n",
    "\n",
    "jsonString = json.dumps(results_list)\n",
    "jsonFile = open(\"data/results_list-ipv4_ping-(21-1-1_21-1-2).json\", \"w\")\n",
    "jsonFile.write(jsonString)\n",
    "jsonFile.close()\n",
    "\n",
    "# open output file for writing\n",
    "with open('data/measurement_ids.txt', 'w') as file_handle:\n",
    "    json.dump(measurement_ids, file_handle)\n",
    "file_handle.close()\n",
    "\n",
    "logging.info(\"Measurements size: %s\", str(measurements.total_count))\n",
    "logging.info(\"Measurement IDs size: %s\", str(len(measurement_ids)))\n",
    "logging.info(\"Results size: %s\", str(len(results_list)))\n",
    "logging.getLogger().setLevel(logging.INFO)"
   ]
  },
  {
   "cell_type": "code",
   "execution_count": null,
   "id": "mature-broadcast",
   "metadata": {},
   "outputs": [],
   "source": []
  },
  {
   "cell_type": "code",
   "execution_count": null,
   "id": "virgin-lawrence",
   "metadata": {},
   "outputs": [],
   "source": [
    "import json\n",
    "file_name = \"data/results_list-ipv4_ping-(21-1-1_21-1-2).json\"\n",
    "\n",
    "with open(file=file_name, mode=\"r\") as file_handle:\n",
    "    ping_results = json.load(file_handle)\n",
    "\n",
    "file_handle.close()\n",
    "\n",
    "print(str(len(ping_results)))"
   ]
  },
  {
   "cell_type": "code",
   "execution_count": null,
   "id": "alert-checklist",
   "metadata": {},
   "outputs": [],
   "source": [
    "one_result = ping_results[1]"
   ]
  },
  {
   "cell_type": "code",
   "execution_count": null,
   "id": "incorrect-finger",
   "metadata": {},
   "outputs": [],
   "source": [
    "print(one_result)"
   ]
  },
  {
   "cell_type": "code",
   "execution_count": null,
   "id": "solid-russia",
   "metadata": {},
   "outputs": [],
   "source": [
    "import requests\n",
    "\n",
    "def ip_map_city_request(ip_addr):\n",
    "    url = \"https://ipmap.ripe.net/api/v1/locate/{}/best\".format(ip_addr)\n",
    "    response = requests.get(url)\n",
    "    response_json = response.json()\n",
    "    if 'location' in response_json:\n",
    "        return response_json['location']['cityName']\n",
    "    else:\n",
    "        return None\n",
    "\n"
   ]
  },
  {
   "cell_type": "code",
   "execution_count": null,
   "id": "thick-wisdom",
   "metadata": {},
   "outputs": [],
   "source": [
    "for ping_result in ping_results:\n",
    "    if ping_result[\"rcvd\"] != 0 and ping_result[\"avg\"] != -1:\n",
    "        from_addr = ping_result[\"from\"]\n",
    "        from_addr_city = ip_map_city_request(from_addr)\n",
    "        dst_addr = ping_result[\"dst_addr\"]\n",
    "        dst_addr_city = ip_map_city_request(dst_addr)\n",
    "        rtt_list = ping_result[\"result\"]\n",
    "    else:\n",
    "        print(ping_result)\n"
   ]
  },
  {
   "cell_type": "code",
   "execution_count": null,
   "id": "packed-policy",
   "metadata": {},
   "outputs": [],
   "source": []
  },
  {
   "cell_type": "markdown",
   "id": "unauthorized-contest",
   "metadata": {},
   "source": [
    "APACHE SPARK SECTION STARTS"
   ]
  },
  {
   "cell_type": "code",
   "execution_count": 13,
   "id": "simplified-livestock",
   "metadata": {},
   "outputs": [],
   "source": [
    "from pyspark.sql import SparkSession\n",
    "\n",
    "spark = SparkSession \\\n",
    "    .builder \\\n",
    "    .master(\"local[*]\") \\\n",
    "    .appName(\"Ping measurement\") \\\n",
    "    .getOrCreate()"
   ]
  },
  {
   "cell_type": "code",
   "execution_count": 14,
   "id": "accredited-movie",
   "metadata": {},
   "outputs": [],
   "source": [
    "ping_results = spark.read.json(path=\"data/results_list-ipv4_ping-(21-1-1_21-1-2).json\")"
   ]
  },
  {
   "cell_type": "code",
   "execution_count": null,
   "id": "optimum-microphone",
   "metadata": {},
   "outputs": [],
   "source": [
    "print(ping_results.count())\n",
    "print(ping_results.printSchema())"
   ]
  },
  {
   "cell_type": "code",
   "execution_count": 15,
   "id": "induced-portsmouth",
   "metadata": {},
   "outputs": [],
   "source": [
    "valued_ping_results = ping_results.filter((ping_results.rcvd != 0) & (ping_results.avg != -1))"
   ]
  },
  {
   "cell_type": "code",
   "execution_count": null,
   "id": "material-terror",
   "metadata": {},
   "outputs": [],
   "source": [
    "valued_ping_results.count()"
   ]
  },
  {
   "cell_type": "code",
   "execution_count": null,
   "id": "fancy-dynamics",
   "metadata": {},
   "outputs": [],
   "source": [
    "valued_ping_results.take(3)"
   ]
  },
  {
   "cell_type": "code",
   "execution_count": null,
   "id": "covered-carroll",
   "metadata": {},
   "outputs": [],
   "source": [
    "valued_ping_results.show(n=3)"
   ]
  },
  {
   "cell_type": "code",
   "execution_count": 111,
   "id": "complimentary-butterfly",
   "metadata": {},
   "outputs": [],
   "source": [
    "selected_ping_results = valued_ping_results.select('from', 'dst_addr', 'avg', 'max', 'min').withColumnRenamed('from', 'from_addr')"
   ]
  },
  {
   "cell_type": "code",
   "execution_count": 112,
   "id": "iraqi-copper",
   "metadata": {},
   "outputs": [
    {
     "name": "stdout",
     "output_type": "stream",
     "text": [
      "+--------------+-------------+--------------+----------+----------+\n",
      "|     from_addr|     dst_addr|           avg|       max|       min|\n",
      "+--------------+-------------+--------------+----------+----------+\n",
      "| 203.23.128.44|46.30.201.202|    279.860558|324.039382|234.906895|\n",
      "|  50.38.42.218|46.30.201.202|135.6853056667|139.013417| 133.56025|\n",
      "|  95.94.75.171|46.30.201.202|     41.985082| 43.064958| 41.283366|\n",
      "|189.120.72.237|46.30.201.202|224.1408336667|226.516979|222.869584|\n",
      "+--------------+-------------+--------------+----------+----------+\n",
      "only showing top 4 rows\n",
      "\n"
     ]
    }
   ],
   "source": [
    "selected_ping_results.show(4)"
   ]
  },
  {
   "cell_type": "code",
   "execution_count": 123,
   "id": "formal-thing",
   "metadata": {},
   "outputs": [],
   "source": [
    "from pyspark.sql.functions import udf\n",
    "from pyspark.sql.types import *\n",
    "from pyspark.sql import Row\n",
    "\n",
    "ip_geolocation_function_udf = udf(lambda x: ip_map_city_request(x), returnType=StringType())\n",
    "\n",
    "from_city_ping_results = selected_ping_results.withColumn('from_city', ip_geolocation_function_udf(selected_ping_results.from_addr))"
   ]
  },
  {
   "cell_type": "code",
   "execution_count": null,
   "id": "touched-injection",
   "metadata": {},
   "outputs": [],
   "source": [
    "from_city_ping_results.show()"
   ]
  },
  {
   "cell_type": "code",
   "execution_count": 104,
   "id": "clinical-sunrise",
   "metadata": {},
   "outputs": [],
   "source": [
    "from pyspark.sql.functions import col, when\n",
    "\n",
    "cities = ['New York City', 'London', 'City of London', 'Beijing', 'San Francisco', 'Sydney', 'Cape Town', 'São Paulo']\n",
    "countries = ['United States', 'United Kingdom', 'China', 'Australia', 'South Africa', 'Brazil']\n",
    "\n",
    "geolocations_rdd = spark.read.csv('data/geolocations-latest.out', header=False) \\\n",
    ".toDF(\"IP\", \"geolocation_ID\", \"city_name\", \"state_name\", \"country_name\", \"country_code_ISO2\", \"country_code_iso3\", \"latitude\", \"longitude\", \"score\") \\\n",
    ".filter(col('city_name').isin(cities) & col('country_name').isin(countries)) \\\n",
    ".select('IP', 'city_name') \\\n",
    ".withColumn('city_name', when(col('city_name') == 'City of London', 'London').otherwise(col('city_name')) ) \\\n",
    ".rdd\n",
    "#.filter(col('country_name') == 'Dominican Republic') \\"
   ]
  },
  {
   "cell_type": "code",
   "execution_count": 105,
   "id": "cardiac-scoop",
   "metadata": {},
   "outputs": [
    {
     "data": {
      "text/plain": [
       "[Row(IP='213.46.174.97/32', city_name='London'),\n",
       " Row(IP='184.150.181.166/32', city_name='New York City'),\n",
       " Row(IP='187.100.34.165/32', city_name='São Paulo'),\n",
       " Row(IP='63.218.12.146/32', city_name='London'),\n",
       " Row(IP='63.218.12.238/32', city_name='London'),\n",
       " Row(IP='2001:5a0:12:100::24/128', city_name='New York City'),\n",
       " Row(IP='63.218.12.246/32', city_name='London'),\n",
       " Row(IP='2600:9000:211b:0:c:5a04:e140:93a1/128', city_name='London'),\n",
       " Row(IP='5.57.81.128/32', city_name='London'),\n",
       " Row(IP='5.57.81.134/32', city_name='London'),\n",
       " Row(IP='5.57.81.150/32', city_name='London'),\n",
       " Row(IP='5.57.81.174/32', city_name='London'),\n",
       " Row(IP='5.57.81.195/32', city_name='London'),\n",
       " Row(IP='2600:9000:211b:1800:c:5a04:e140:93a1/128', city_name='London'),\n",
       " Row(IP='191.162.75.107/32', city_name='São Paulo'),\n",
       " Row(IP='2001:504:30::ba01:1170:1/128', city_name='San Francisco'),\n",
       " Row(IP='5.57.81.200/32', city_name='London'),\n",
       " Row(IP='2001:470:1f1d:27b:220:4aff:fec7:af98/128', city_name='London'),\n",
       " Row(IP='177.38.24.74/32', city_name='São Paulo'),\n",
       " Row(IP='62.128.205.130/32', city_name='London')]"
      ]
     },
     "execution_count": 105,
     "metadata": {},
     "output_type": "execute_result"
    }
   ],
   "source": [
    "geolocations_rdd.take(20)"
   ]
  },
  {
   "cell_type": "code",
   "execution_count": 151,
   "id": "other-cruise",
   "metadata": {},
   "outputs": [
    {
     "data": {
      "text/plain": [
       "33435"
      ]
     },
     "execution_count": 151,
     "metadata": {},
     "output_type": "execute_result"
    }
   ],
   "source": [
    "geolocations_rdd.count()"
   ]
  },
  {
   "cell_type": "code",
   "execution_count": 22,
   "id": "played-difficulty",
   "metadata": {},
   "outputs": [],
   "source": [
    "import ipaddress"
   ]
  },
  {
   "cell_type": "code",
   "execution_count": 157,
   "id": "brazilian-teens",
   "metadata": {},
   "outputs": [
    {
     "data": {
      "text/plain": [
       "IPv4Address('194.176.70.2')"
      ]
     },
     "execution_count": 157,
     "metadata": {},
     "output_type": "execute_result"
    }
   ],
   "source": [
    "sample_ip = ipaddress.ip_address('194.176.70.2')\n",
    "sample_ip"
   ]
  },
  {
   "cell_type": "code",
   "execution_count": 158,
   "id": "norwegian-replication",
   "metadata": {},
   "outputs": [
    {
     "data": {
      "text/plain": [
       "IPv4Network('194.176.70.2/32')"
      ]
     },
     "execution_count": 158,
     "metadata": {},
     "output_type": "execute_result"
    }
   ],
   "source": [
    "sample_ip_network = ipaddress.ip_network('194.176.70.2/32')\n",
    "sample_ip_network"
   ]
  },
  {
   "cell_type": "code",
   "execution_count": 159,
   "id": "efficient-produce",
   "metadata": {},
   "outputs": [
    {
     "data": {
      "text/plain": [
       "True"
      ]
     },
     "execution_count": 159,
     "metadata": {},
     "output_type": "execute_result"
    }
   ],
   "source": [
    "sample_ip in sample_ip_network"
   ]
  },
  {
   "cell_type": "code",
   "execution_count": 126,
   "id": "active-culture",
   "metadata": {},
   "outputs": [],
   "source": [
    "network_geolocations_rdd = geolocations_rdd.map(lambda loc: Row(IP_network=ipaddress.ip_network(loc.IP), city_name=loc.city_name))"
   ]
  },
  {
   "cell_type": "code",
   "execution_count": 127,
   "id": "familiar-citizenship",
   "metadata": {},
   "outputs": [
    {
     "data": {
      "text/plain": [
       "[Row(IP_network=IPv4Network('213.46.174.97/32'), city_name='London'),\n",
       " Row(IP_network=IPv4Network('184.150.181.166/32'), city_name='New York City'),\n",
       " Row(IP_network=IPv4Network('187.100.34.165/32'), city_name='São Paulo'),\n",
       " Row(IP_network=IPv4Network('63.218.12.146/32'), city_name='London'),\n",
       " Row(IP_network=IPv4Network('63.218.12.238/32'), city_name='London'),\n",
       " Row(IP_network=IPv6Network('2001:5a0:12:100::24/128'), city_name='New York City'),\n",
       " Row(IP_network=IPv4Network('63.218.12.246/32'), city_name='London'),\n",
       " Row(IP_network=IPv6Network('2600:9000:211b:0:c:5a04:e140:93a1/128'), city_name='London'),\n",
       " Row(IP_network=IPv4Network('5.57.81.128/32'), city_name='London'),\n",
       " Row(IP_network=IPv4Network('5.57.81.134/32'), city_name='London')]"
      ]
     },
     "execution_count": 127,
     "metadata": {},
     "output_type": "execute_result"
    }
   ],
   "source": [
    "network_geolocations_rdd.take(10)"
   ]
  },
  {
   "cell_type": "code",
   "execution_count": 138,
   "id": "pursuant-comedy",
   "metadata": {},
   "outputs": [],
   "source": [
    "network_geolocations_broadcast = spark.sparkContext.broadcast(network_geolocations_rdd.collectAsMap())"
   ]
  },
  {
   "cell_type": "code",
   "execution_count": 115,
   "id": "adjusted-kitchen",
   "metadata": {},
   "outputs": [
    {
     "data": {
      "text/plain": [
       "[Row(from_addr='203.23.128.44', dst_addr='46.30.201.202', avg=279.860558, max=324.039382, min=234.906895),\n",
       " Row(from_addr='50.38.42.218', dst_addr='46.30.201.202', avg=135.6853056667, max=139.013417, min=133.56025),\n",
       " Row(from_addr='95.94.75.171', dst_addr='46.30.201.202', avg=41.985082, max=43.064958, min=41.283366),\n",
       " Row(from_addr='189.120.72.237', dst_addr='46.30.201.202', avg=224.1408336667, max=226.516979, min=222.869584),\n",
       " Row(from_addr='95.94.91.161', dst_addr='46.30.201.202', avg=44.897552, max=46.112293, min=43.682811)]"
      ]
     },
     "execution_count": 115,
     "metadata": {},
     "output_type": "execute_result"
    }
   ],
   "source": [
    "selected_ping_results_rdd = selected_ping_results.rdd\n",
    "selected_ping_results_rdd.take(5)"
   ]
  },
  {
   "cell_type": "code",
   "execution_count": 132,
   "id": "departmental-destiny",
   "metadata": {},
   "outputs": [],
   "source": [
    "ip_ping_results = selected_ping_results_rdd.map(lambda ping: Row(from_IP_addr=ipaddress.ip_address(ping.from_addr), dst_IP_addr=ipaddress.ip_address(ping.dst_addr), avg=ping.avg, max=ping.max, min=ping.min))"
   ]
  },
  {
   "cell_type": "code",
   "execution_count": 133,
   "id": "certain-insert",
   "metadata": {},
   "outputs": [
    {
     "data": {
      "text/plain": [
       "[Row(from_IP_addr=IPv4Address('203.23.128.44'), dst_IP_addr=IPv4Address('46.30.201.202'), avg=279.860558, max=324.039382, min=234.906895),\n",
       " Row(from_IP_addr=IPv4Address('50.38.42.218'), dst_IP_addr=IPv4Address('46.30.201.202'), avg=135.6853056667, max=139.013417, min=133.56025),\n",
       " Row(from_IP_addr=IPv4Address('95.94.75.171'), dst_IP_addr=IPv4Address('46.30.201.202'), avg=41.985082, max=43.064958, min=41.283366),\n",
       " Row(from_IP_addr=IPv4Address('189.120.72.237'), dst_IP_addr=IPv4Address('46.30.201.202'), avg=224.1408336667, max=226.516979, min=222.869584),\n",
       " Row(from_IP_addr=IPv4Address('95.94.91.161'), dst_IP_addr=IPv4Address('46.30.201.202'), avg=44.897552, max=46.112293, min=43.682811)]"
      ]
     },
     "execution_count": 133,
     "metadata": {},
     "output_type": "execute_result"
    }
   ],
   "source": [
    "ip_ping_results.take(5)"
   ]
  },
  {
   "cell_type": "code",
   "execution_count": 160,
   "id": "circular-dream",
   "metadata": {},
   "outputs": [
    {
     "name": "stdout",
     "output_type": "stream",
     "text": [
      "London\n"
     ]
    }
   ],
   "source": [
    "def find_city(ip_addr):\n",
    "    for ip_network, city_name in network_geolocations_broadcast.value.items():\n",
    "        if ip_addr.version == ip_network.version:\n",
    "            if ip_addr in ip_network:\n",
    "                return city_name\n",
    "\n",
    "print(find_city(sample_ip))"
   ]
  },
  {
   "cell_type": "code",
   "execution_count": null,
   "id": "medium-superintendent",
   "metadata": {},
   "outputs": [],
   "source": [
    "ip_ping_results.map(lambda row: find_city(row. ) )"
   ]
  },
  {
   "cell_type": "code",
   "execution_count": null,
   "id": "mental-yesterday",
   "metadata": {},
   "outputs": [],
   "source": []
  }
 ],
 "metadata": {
  "kernelspec": {
   "display_name": "Python 3",
   "language": "python",
   "name": "python3"
  },
  "language_info": {
   "codemirror_mode": {
    "name": "ipython",
    "version": 3
   },
   "file_extension": ".py",
   "mimetype": "text/x-python",
   "name": "python",
   "nbconvert_exporter": "python",
   "pygments_lexer": "ipython3",
   "version": "3.8.5"
  }
 },
 "nbformat": 4,
 "nbformat_minor": 5
}
